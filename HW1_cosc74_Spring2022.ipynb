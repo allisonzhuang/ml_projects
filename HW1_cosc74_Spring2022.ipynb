{
 "cells": [
  {
   "cell_type": "markdown",
   "metadata": {},
   "source": [
    "# HW1  Try out gradient descent"
   ]
  },
  {
   "cell_type": "markdown",
   "metadata": {},
   "source": [
    "## Due Monday April 25th, 2022 at 11:59PM"
   ]
  },
  {
   "cell_type": "markdown",
   "metadata": {},
   "source": [
    "You should submit this jupyter notebook with your solutions. The solutions should include the code and also the output of all the cells.\n",
    "\n",
    "Note that for the problmes that require a cost function as input you should always use the most recent cost function that you have implemented (unless specified otherwise)."
   ]
  },
  {
   "cell_type": "markdown",
   "metadata": {},
   "source": [
    "1) [5 points] Calculate the derivative of following cost function and write it down:\n",
    "\n",
    "$g(w) = \\frac{1}{50}\\left(w^4 + w^2 + 10w - 50 \\right)$"
   ]
  },
  {
   "cell_type": "markdown",
   "metadata": {},
   "source": [
    "$\\frac{\\partial}{\\partial w}g(w) = \\frac{1}{50}(4w^3+2w+10)$"
   ]
  },
  {
   "cell_type": "markdown",
   "metadata": {},
   "source": [
    "2) [25 points] Implement the gradient descent function as discussed in class using the gradient derived in the last problem. The function should return the cost history for each step. Use the code template below:\n"
   ]
  },
  {
   "cell_type": "code",
   "execution_count": 10,
   "metadata": {},
   "outputs": [],
   "source": [
    "#gradient descent function\n",
    "#inputs: alpha (learning rate parameter), max_its (maximum number of iterations), w0 (initialization)\n",
    "import numpy\n",
    "\n",
    "def g(w):\n",
    "    return 1/50*(w**4 + w**2 + 10*w -50)\n",
    "\n",
    "def gradient_descent(alpha,max_its,w0):\n",
    "    cost_history = []\n",
    "    cost_history.append(g(w0))\n",
    "    wk = 0\n",
    "    wk_minus_one = w0\n",
    "    for i in range(1, max_its+1):\n",
    "        gradient = (1/50)*(4*wk_minus_one**3+2*wk_minus_one+10)\n",
    "        wk = wk_minus_one-alpha*gradient\n",
    "        cost_history.append(g(wk))\n",
    "        wk_minus_one = wk\n",
    "    return cost_history\n"
   ]
  },
  {
   "cell_type": "markdown",
   "metadata": {},
   "source": [
    "3) [10 points] Run the gradient_descent function you implemented three times, with the following parameters. Generate a single plot showing the cost as a function of step number for all three runs (combine all three runs into a single plot). If you are not familiar with plotting in python, here is the docs for matplotlib:(https://matplotlib.org/3.2.1/api/_as_gen/matplotlib.pyplot.plot.html#matplotlib.pyplot.plot). \n",
    "\n",
    "\n",
    "$w^0$ = 2.0\n",
    "max_its = 1000\n",
    "\n",
    "# first run\n",
    "alpha = 1\n",
    "# second run\n",
    "alpha = 0.1\n",
    "# third run\n",
    "alpha = 0.01\n"
   ]
  },
  {
   "cell_type": "code",
   "execution_count": 11,
   "metadata": {},
   "outputs": [
    {
     "data": {
      "image/png": "[encoded data removed]",
      "text/plain": [
       "<Figure size 432x288 with 1 Axes>"
      ]
     },
     "metadata": {
      "needs_background": "light"
     },
     "output_type": "display_data"
    }
   ],
   "source": [
    "%matplotlib inline\n",
    "import matplotlib.pyplot as plt\n",
    "plt.plot(gradient_descent(1,1000,2.0)) #blue\n",
    "plt.plot(gradient_descent(0.1,1000,2.0)) #orange\n",
    "plt.plot(gradient_descent(.01,1000,2.0)) #green\n",
    "plt.show()\n",
    "##Your code here"
   ]
  },
  {
   "cell_type": "markdown",
   "metadata": {},
   "source": [
    "For the next few problems we will be comparing fixed and diminishing learning rates"
   ]
  },
  {
   "cell_type": "markdown",
   "metadata": {},
   "source": [
    "Take the following cost function:\n",
    "\\begin{equation}\n",
    "g(w) = \\left \\vert w \\right \\vert\n",
    "\\end{equation}"
   ]
  },
  {
   "cell_type": "markdown",
   "metadata": {},
   "source": [
    "4) [5 points] Is this function convex? If no, why not? If yes, where is its global minimum?\n",
    "Yes, global minimum at w = 0."
   ]
  },
  {
   "cell_type": "markdown",
   "metadata": {},
   "source": [
    "5) [5 points] What is the derivative of the cost function? \n",
    "g'(w) = -1, w < 0\n",
    "g'(w) = 1, w > 0"
   ]
  },
  {
   "cell_type": "markdown",
   "metadata": {},
   "source": [
    "6) [20 points] Rewrite the gradient descent function from question 2 such that it takes the cost funciton g as input and uses the autograd library to calculate the gradient. The function should return the weight and cost history for each step. Use the code template below.\n",
    "\n",
    "autograd is a python package for automatic calculation of the gradient. Here is a tutorial on it: (http://www.cs.toronto.edu/~rgrosse/courses/csc321_2017/tutorials/tut4.pdf\n",
    "\n",
    "Note that in Python you can pass functions around like any other variables. That is why you can pass the cost function g to the gradient_descent function. \n",
    "\n",
    "You should be able to install it by running \"pip install autograd\" in a cell in your Jupyter notebook."
   ]
  },
  {
   "cell_type": "code",
   "execution_count": 20,
   "metadata": {},
   "outputs": [],
   "source": [
    "from autograd import grad \n",
    "\n",
    "#gradient descent function\n",
    "#inputs: g (cost function), alpha (learning rate parameter), max_its (maximum number of iterations), w (initialization)\n",
    "def gradient_descent(g, alpha,max_its,w0):\n",
    "    gradient = grad(g)   ## This is how you use the autograd library to find the gradient of a function  \n",
    "    \n",
    "    cost_history = []\n",
    "    weight_history = []\n",
    "    \n",
    "    cost_history.append(g(w0))\n",
    "    weight_history.append(w0)\n",
    "    \n",
    "\n",
    "    wk_minus_one = w0\n",
    "    \n",
    "    for i in range(1, max_its+1):\n",
    "        wk = wk_minus_one-alpha*gradient(wk_minus_one)\n",
    "        cost_history.append(g(wk))\n",
    "        weight_history.append(wk)\n",
    "        wk_minus_one = wk\n",
    "        \n",
    "    return weight_history,cost_history"
   ]
  },
  {
   "cell_type": "code",
   "execution_count": 21,
   "metadata": {},
   "outputs": [
    {
     "name": "stdout",
     "output_type": "stream",
     "text": [
      "Requirement already satisfied: autograd in /Library/Frameworks/Python.framework/Versions/3.9/lib/python3.9/site-packages (1.4)\n",
      "Requirement already satisfied: numpy>=1.12 in /Library/Frameworks/Python.framework/Versions/3.9/lib/python3.9/site-packages (from autograd) (1.22.1)\n",
      "Requirement already satisfied: future>=0.15.2 in /Library/Frameworks/Python.framework/Versions/3.9/lib/python3.9/site-packages (from autograd) (0.18.2)\n",
      "Note: you may need to restart the kernel to use updated packages.\n"
     ]
    }
   ],
   "source": [
    "pip install autograd"
   ]
  },
  {
   "cell_type": "code",
   "execution_count": 22,
   "metadata": {},
   "outputs": [
    {
     "name": "stdout",
     "output_type": "stream",
     "text": [
      "Requirement already satisfied: matplotlib in /Library/Frameworks/Python.framework/Versions/3.9/lib/python3.9/site-packages (3.5.1)\n",
      "Requirement already satisfied: pillow>=6.2.0 in /Library/Frameworks/Python.framework/Versions/3.9/lib/python3.9/site-packages (from matplotlib) (9.1.0)\n",
      "Requirement already satisfied: python-dateutil>=2.7 in /Library/Frameworks/Python.framework/Versions/3.9/lib/python3.9/site-packages (from matplotlib) (2.8.2)\n",
      "Requirement already satisfied: cycler>=0.10 in /Library/Frameworks/Python.framework/Versions/3.9/lib/python3.9/site-packages (from matplotlib) (0.11.0)\n",
      "Requirement already satisfied: pyparsing>=2.2.1 in /Library/Frameworks/Python.framework/Versions/3.9/lib/python3.9/site-packages (from matplotlib) (3.0.7)\n",
      "Requirement already satisfied: kiwisolver>=1.0.1 in /Library/Frameworks/Python.framework/Versions/3.9/lib/python3.9/site-packages (from matplotlib) (1.4.2)\n",
      "Requirement already satisfied: numpy>=1.17 in /Library/Frameworks/Python.framework/Versions/3.9/lib/python3.9/site-packages (from matplotlib) (1.22.1)\n",
      "Requirement already satisfied: packaging>=20.0 in /Library/Frameworks/Python.framework/Versions/3.9/lib/python3.9/site-packages (from matplotlib) (21.3)\n",
      "Requirement already satisfied: fonttools>=4.22.0 in /Library/Frameworks/Python.framework/Versions/3.9/lib/python3.9/site-packages (from matplotlib) (4.32.0)\n",
      "Requirement already satisfied: six>=1.5 in /Library/Frameworks/Python.framework/Versions/3.9/lib/python3.9/site-packages (from python-dateutil>=2.7->matplotlib) (1.16.0)\n",
      "Note: you may need to restart the kernel to use updated packages.\n"
     ]
    }
   ],
   "source": [
    "pip install matplotlib"
   ]
  },
  {
   "cell_type": "markdown",
   "metadata": {},
   "source": [
    "7) [10 points] Make a run of max_its=20 steps of gradient descent with initialization at the point $w^0 = 1.75$, and a fixed learning rate of $\\alpha = 0.5$. Using the cost and weight history, plot the cost as a function of the weight for each step (cost on y-axis, weight on x-axis). Recall that the terms weight and parameter used interchangeably and both refer to w."
   ]
  },
  {
   "cell_type": "code",
   "execution_count": 23,
   "metadata": {},
   "outputs": [
    {
     "data": {
      "text/plain": [
       "<matplotlib.collections.PathCollection at 0x7f8b89086e80>"
      ]
     },
     "execution_count": 23,
     "metadata": {},
     "output_type": "execute_result"
    },
    {
     "data": {
      "image/png": "[encoded data removed]",
      "text/plain": [
       "<Figure size 432x288 with 1 Axes>"
      ]
     },
     "metadata": {
      "needs_background": "light"
     },
     "output_type": "display_data"
    }
   ],
   "source": [
    "def g(w):\n",
    "    return abs(w)\n",
    "\n",
    "weight_history,cost_history = gradient_descent(g, 0.5,20,1.75)\n",
    "plt.scatter(weight_history, cost_history)"
   ]
  },
  {
   "cell_type": "markdown",
   "metadata": {},
   "source": [
    "8) [15 points] Make a run of max_its=20 steps of gradient descent with initialization at the point $w^0 = 1.75$, using the diminishing rule $\\alpha = \\frac{1}{k}$ (for this you have to modify the gradient_descent function slightly. Use the code template below. Using the cost and wiehgt history, plot the cost as a function of the weight for each step (cost on y-axis, weight on x-axis)"
   ]
  },
  {
   "cell_type": "code",
   "execution_count": 24,
   "metadata": {},
   "outputs": [],
   "source": [
    "from autograd import grad \n",
    "\n",
    "#gradient descent function\n",
    "#inputs: g (cost function), alpha (learning rate parameter), max_its (maximum number of iterations), w (initialization)\n",
    "def gradient_descent(g, alpha,max_its,w0):\n",
    "    gradient = grad(g)   ## This is how you use the autograd library to find the gradient of a function  \n",
    "    \n",
    "    cost_history = []\n",
    "    weight_history = []\n",
    "    \n",
    "    if alpha=='diminishing':\n",
    "    \n",
    "        cost_history.append(g(w0))\n",
    "        weight_history.append(w0)\n",
    "    \n",
    "        wk_minus_one = w0\n",
    "    \n",
    "        for i in range(1, max_its+1):\n",
    "            alpha = 1/i\n",
    "            wk = wk_minus_one-alpha*gradient(wk_minus_one)\n",
    "            cost_history.append(g(wk))\n",
    "            weight_history.append(wk)\n",
    "            wk_minus_one = wk\n",
    "\n",
    "    else: \n",
    "        cost_history.append(g(w0))\n",
    "        weight_history.append(w0)\n",
    "\n",
    "\n",
    "        wk_minus_one = w0\n",
    "\n",
    "        for i in range(1, max_its+1):\n",
    "            wk = wk_minus_one-alpha*gradient(wk_minus_one)\n",
    "            cost_history.append(g(wk))\n",
    "            weight_history.append(wk)\n",
    "            wk_minus_one = wk\n",
    "\n",
    "    return weight_history,cost_history"
   ]
  },
  {
   "cell_type": "code",
   "execution_count": 25,
   "metadata": {},
   "outputs": [
    {
     "data": {
      "text/plain": [
       "<matplotlib.collections.PathCollection at 0x7f8b8d93d280>"
      ]
     },
     "execution_count": 25,
     "metadata": {},
     "output_type": "execute_result"
    },
    {
     "data": {
      "image/png": "[encoded data removed]",
      "text/plain": [
       "<Figure size 432x288 with 1 Axes>"
      ]
     },
     "metadata": {
      "needs_background": "light"
     },
     "output_type": "display_data"
    }
   ],
   "source": [
    "weight_history,cost_history = gradient_descent(g, 'diminishing',20,1.75)\n",
    "plt.scatter(weight_history, cost_history)"
   ]
  },
  {
   "cell_type": "markdown",
   "metadata": {},
   "source": [
    "9) [10 points]  Generate a single plot showing the cost as a function of step number for both runs (combine all  runs into a single plot). Which approach works better? Why ?\n",
    "\n",
    "The diminishing rate works better, because the constant learning rate causes w to oscillate between 0.25 and -0.25 and never reach 0. Smaller steps enable the gradient descent to take smaller and smaller steps as the number of iterations increases (and therefore, the cost decreases)."
   ]
  },
  {
   "cell_type": "code",
   "execution_count": 29,
   "metadata": {},
   "outputs": [
    {
     "data": {
      "image/png": "[encoded data removed]",
      "text/plain": [
       "<Figure size 432x288 with 1 Axes>"
      ]
     },
     "metadata": {
      "needs_background": "light"
     },
     "output_type": "display_data"
    }
   ],
   "source": [
    "weight_history,cost_history = gradient_descent(g, 0.5,20,1.75)\n",
    "plt.plot(cost_history) #blue\n",
    "weight_history1,cost_history1 = gradient_descent(g, 'diminishing',20,1.75)\n",
    "plt.plot(cost_history1) #orange\n",
    "plt.show()"
   ]
  },
  {
   "cell_type": "markdown",
   "metadata": {},
   "source": [
    "We will now look at the oscilating behavior of gradient descent. \n",
    "\n",
    "Take the following cost function:\n",
    "$g(w) = w_0^2 + w_1^2 + 2\\sin(1.5 (w_0 + w_1)) +2$\n",
    "\n",
    "Note that this cost function has two parameters."
   ]
  },
  {
   "cell_type": "markdown",
   "metadata": {},
   "source": [
    "10) [5 points] Make sure your gradient descent function from problem 6 can handle cost functions with more than one parameter. You may need to rewrite it if you were not careful. Use the code template below (if your function from problem 6 is good, you can just copy and paste it here)"
   ]
  },
  {
   "cell_type": "code",
   "execution_count": 30,
   "metadata": {},
   "outputs": [],
   "source": [
    "from autograd import grad\n",
    "import math\n",
    "import autograd.numpy as np\n",
    "def g(w):\n",
    "    w0 = w[0]\n",
    "    w1 = w[1]\n",
    "    return w0**2 + w1**2 + 2*np.sin(1.5*(w0+w1)) + 2"
   ]
  },
  {
   "cell_type": "code",
   "execution_count": 31,
   "metadata": {},
   "outputs": [],
   "source": [
    "from autograd import grad\n",
    "import math\n",
    "#gradient descent function\n",
    "#inputs: g (cost function), alpha (learning rate parameter), max_its (maximum number of iterations), w (initialization)\n",
    "def gradient_descent(g, alpha,max_its,w0): #w0 now a list\n",
    "    gradient = grad(g)   ## This is how you use the autograd library to find the gradient of a function\n",
    "    \n",
    "    cost_history = []\n",
    "    weight_history = []\n",
    "    \n",
    "    cost_history.append(g(w0))\n",
    "    weight_history.append(w0)\n",
    "    \n",
    "    wk = 0\n",
    "    wk_minus_one = w0\n",
    "    \n",
    "    for i in range(1, max_its+1):\n",
    "        wk = wk_minus_one-alpha*gradient(wk_minus_one)\n",
    "        wk_minus_one = wk\n",
    "        cost_history.append(g(wk_minus_one))\n",
    "        weight_history.append(wk_minus_one)\n",
    "    \n",
    "    \n",
    "    return weight_history,cost_history"
   ]
  },
  {
   "cell_type": "markdown",
   "metadata": {},
   "source": [
    "11) [10 points] Run the gradient_descent function with the cost function above three times with the following parameters. Generate a single plot showing the cost as a function of step number for all three runs (combine all three runs into a single plot). Use the code template below. Which alpha leads to an oscillating behavior?\n",
    "\n",
    "$w^0$ = [3.0,3.0]\n",
    "max_its = 10\n",
    "\n",
    "# first run\n",
    "alpha = 0.01\n",
    "# second run\n",
    "alpha = 0.1\n",
    "# third run\n",
    "alpha = 1\n",
    "\n"
   ]
  },
  {
   "cell_type": "code",
   "execution_count": 32,
   "metadata": {},
   "outputs": [
    {
     "data": {
      "image/png": "[encoded data removed]",
      "text/plain": [
       "<Figure size 432x288 with 1 Axes>"
      ]
     },
     "metadata": {
      "needs_background": "light"
     },
     "output_type": "display_data"
    }
   ],
   "source": [
    "import autograd.numpy as np\n",
    "\n",
    "weight_history,cost_history = gradient_descent(g, 0.01,10,np.array([3.0,3.0]))\n",
    "plt.plot(cost_history) #blue\n",
    "\n",
    "weight_history,cost_history = gradient_descent(g, 0.1,10,np.array([3.0,3.0]))\n",
    "plt.plot(cost_history) #orange\n",
    "\n",
    "weight_history,cost_history = gradient_descent(g, 1,10,np.array([3.0,3.0]))\n",
    "plt.plot(cost_history) #green\n",
    "\n",
    "plt.show()"
   ]
  },
  {
   "cell_type": "code",
   "execution_count": null,
   "metadata": {},
   "outputs": [],
   "source": [
    "The largest alpha, alpha = 1, leads to the oscillating behavior because the steps are so big that the cost often goes from high to low or vice versa."
   ]
  },
  {
   "cell_type": "markdown",
   "metadata": {},
   "source": [
    "12) [15 points] This problem is about learning to tune fixed step length for gradient descent. Here, you are given a cost function:\n",
    "$g(w) = 2w_0^2 + w_1^2 +4w_2^2$ \n",
    "\n",
    "Assume your $w^0$= [5,5,5] and your max_iter = 100\n",
    "\n",
    "Use your latest gradient descent function with a fixed learning rate. Play around with at least 5 different values of alpha (using your intuition). Generate a single plot of the cost as a function of the number of iterations. Which value of alpha seems to converge the fastest?\n",
    "\n",
    "Not that your grade will not depend on how well you do, as long as you try at least 5 different values for alpha and plot them."
   ]
  },
  {
   "cell_type": "code",
   "execution_count": 33,
   "metadata": {},
   "outputs": [
    {
     "data": {
      "image/png": "[encoded data removed]",
      "text/plain": [
       "<Figure size 432x288 with 1 Axes>"
      ]
     },
     "metadata": {
      "needs_background": "light"
     },
     "output_type": "display_data"
    }
   ],
   "source": [
    "from autograd import grad\n",
    "import math\n",
    "import autograd.numpy as np\n",
    "def g(w):\n",
    "    w0 = w[0]\n",
    "    w1 = w[1]\n",
    "    w2 = w[2]\n",
    "    return 2*w0**2 + w1**2 + 4*w2**2\n",
    "\n",
    "import autograd.numpy as np\n",
    "\n",
    "weight_history,cost_history = gradient_descent(g, 0.01,10,np.array([5.0, 5.0, 5.0]))\n",
    "plt.plot(cost_history) #blue\n",
    "\n",
    "weight_history,cost_history = gradient_descent(g, 0.1,10,np.array([5.0, 5.0, 5.0]))\n",
    "plt.plot(cost_history) #orange\n",
    "\n",
    "weight_history,cost_history = gradient_descent(g, 0.2,10,np.array([5.0, 5.0, 5.0]))\n",
    "plt.plot(cost_history) #green\n",
    "\n",
    "weight_history,cost_history = gradient_descent(g, 0.15,10,np.array([5.0, 5.0, 5.0]))\n",
    "plt.plot(cost_history) #red\n",
    "\n",
    "weight_history,cost_history = gradient_descent(g, 0.17,10,np.array([5.0, 5.0, 5.0]))\n",
    "plt.plot(cost_history) #purple\n",
    "\n",
    "weight_history,cost_history = gradient_descent(g, 0.16,10,np.array([5.0, 5.0, 5.0]))\n",
    "plt.plot(cost_history) #dark violet\n",
    "\n",
    "plt.show()"
   ]
  },
  {
   "cell_type": "code",
   "execution_count": null,
   "metadata": {},
   "outputs": [],
   "source": [
    "The red curve, where alpha = 0.15, seems to minimize the cost the fastest."
   ]
  },
  {
   "cell_type": "markdown",
   "metadata": {},
   "source": [
    "# Bonus Question!"
   ]
  },
  {
   "cell_type": "markdown",
   "metadata": {},
   "source": [
    "[10 points] This is an open-ended question. Can you find a way to speed up your gradient descent algorithm implemented above? Please provided the code below:"
   ]
  },
  {
   "cell_type": "code",
   "execution_count": null,
   "metadata": {},
   "outputs": [],
   "source": [
    "def sample_data(x, y, sampling_factor): #x and y are vectors\n",
    "    sampled_x = random.sample(x, len(x)//sampling_factor)\n",
    "    sampled_y = random.sample(y, len(y)//sampling_factor)\n",
    "    return sampled_x, sampled_y\n",
    "\n",
    "from autograd import grad\n",
    "import math\n",
    "#gradient descent function\n",
    "#inputs: g (cost function), alpha (learning rate parameter), max_its (maximum number of iterations), w (initialization)\n",
    "def gradient_descent(g, alpha,max_its,w0, x, y, sampling_factor): #w0 now a list\n",
    "    gradient = grad(g)   ## This is how you use the autograd library to find the gradient of a function\n",
    "    \n",
    "    cost_history = []\n",
    "    weight_history = []\n",
    "    \n",
    "    cost_history.append(g(w0)\n",
    "    weight_history.append(w0)\n",
    "    \n",
    "    wk = 0\n",
    "    wk_minus_one = w0\n",
    "    \n",
    "    for i in range(1, max_its+1):\n",
    "        sampled_x, sampled_y = sample_data(x, y, sampling_factor)\n",
    "        wk = wk_minus_one-alpha*gradient(wk_minus_one, sampled_x, sampled_y) \n",
    "                        #sample data so that fewer iterations have to occur in calculation of gradient of cost function\n",
    "        wk_minus_one = wk\n",
    "        cost_history.append(g(wk_minus_one)) #g also takes in x and y\n",
    "        weight_history.append(wk_minus_one)\n",
    "    \n",
    "    \n",
    "    return weight_history,cost_history"
   ]
  },
  {
   "cell_type": "code",
   "execution_count": null,
   "metadata": {},
   "outputs": [],
   "source": []
  },
  {
   "cell_type": "code",
   "execution_count": null,
   "metadata": {},
   "outputs": [],
   "source": []
  }
 ],
 "metadata": {
  "kernelspec": {
   "display_name": "Python 3 (ipykernel)",
   "language": "python",
   "name": "python3"
  },
  "language_info": {
   "codemirror_mode": {
    "name": "ipython",
    "version": 3
   },
   "file_extension": ".py",
   "mimetype": "text/x-python",
   "name": "python",
   "nbconvert_exporter": "python",
   "pygments_lexer": "ipython3",
   "version": "3.9.4"
  }
 },
 "nbformat": 4,
 "nbformat_minor": 2
}
